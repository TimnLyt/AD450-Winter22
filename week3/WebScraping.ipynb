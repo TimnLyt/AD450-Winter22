{
 "cells": [
  {
   "cell_type": "markdown",
   "id": "d39eaebc",
   "metadata": {},
   "source": [
    "## Imports"
   ]
  },
  {
   "cell_type": "code",
   "execution_count": 13,
   "id": "35b1efdf",
   "metadata": {},
   "outputs": [],
   "source": [
    "import pandas as pd\n",
    "import lxml\n",
    "import requests\n",
    "pd.set_option('display.max_rows', None)"
   ]
  },
  {
   "cell_type": "markdown",
   "id": "10b279ab",
   "metadata": {},
   "source": [
    "## Load Data"
   ]
  },
  {
   "cell_type": "code",
   "execution_count": 14,
   "id": "3a651e49",
   "metadata": {},
   "outputs": [],
   "source": [
    "# Create the necessary variables in order to access the chart\n",
    "url = 'https://www.worldometers.info/coronavirus/country/us/#nav-yesterday'\n",
    "req = requests.get(url)\n",
    "dfs = pd.read_html(req.text)"
   ]
  },
  {
   "cell_type": "code",
   "execution_count": 15,
   "id": "43c3b8d9",
   "metadata": {},
   "outputs": [
    {
     "name": "stdout",
     "output_type": "stream",
     "text": [
      "     #    USAState  TotalCases  NewCases  TotalDeaths  NewDeaths  \\\n",
      "0  NaN   USA Total    71925931  197374.0     889197.0      574.0   \n",
      "1  1.0  California     7450319   29443.0      78870.0       64.0   \n",
      "2  2.0       Texas     5972238   53022.0      78491.0       68.0   \n",
      "3  3.0     Florida     5351391       NaN      63576.0        NaN   \n",
      "4  4.0    New York     4832399   18579.0      63824.0      205.0   \n",
      "\n",
      "   TotalRecovered  ActiveCases  Tot Cases/1M pop  Deaths/1M pop   TotalTests  \\\n",
      "0      44365669.0   26671065.0          217297.0         2686.0  880468373.0   \n",
      "1             NaN          NaN          188557.0         1996.0  131160392.0   \n",
      "2             NaN          NaN          205968.0         2707.0   55862537.0   \n",
      "3       3666925.0    1620890.0          249160.0         2960.0   50466759.0   \n",
      "4       2601723.0    2166852.0          248407.0         3281.0   95500969.0   \n",
      "\n",
      "   Tests/ 1M pop  Population                            Source    Projections  \n",
      "0      2660004.0         NaN                               NaN            NaN  \n",
      "1      3319489.0  39512223.0              [view by county] [1]  [projections]  \n",
      "2      1926568.0  28995881.0      [view by county] [1] [2] [3]  [projections]  \n",
      "3      2349724.0  21477737.0  [view by county] [1] [2] [3] [4]  [projections]  \n",
      "4      4909177.0  19453561.0      [view by county] [1] [2] [3]  [projections]  \n"
     ]
    }
   ],
   "source": [
    "# Create the necessary variable for Covid Table by State\n",
    "statesT = dfs[0]\n",
    "print(statesT.head())"
   ]
  },
  {
   "cell_type": "markdown",
   "id": "48453e27",
   "metadata": {},
   "source": [
    "## Table Refactoring"
   ]
  },
  {
   "cell_type": "code",
   "execution_count": 16,
   "id": "e310a762",
   "metadata": {},
   "outputs": [
    {
     "name": "stdout",
     "output_type": "stream",
     "text": [
      "     USAState  TotalCases  NewCases  TotalDeaths  NewDeaths  TotalRecovered  \\\n",
      "1  California     7450319   29443.0      78870.0       64.0             NaN   \n",
      "2       Texas     5972238   53022.0      78491.0       68.0             NaN   \n",
      "3     Florida     5351391       NaN      63576.0        NaN       3666925.0   \n",
      "4    New York     4832399   18579.0      63824.0      205.0       2601723.0   \n",
      "5    Illinois     2773362       NaN      33446.0        NaN       1924335.0   \n",
      "\n",
      "   ActiveCases  Tot Cases/1M pop  Deaths/1M pop   TotalTests  Tests/ 1M pop  \\\n",
      "1          NaN          188557.0         1996.0  131160392.0      3319489.0   \n",
      "2          NaN          205968.0         2707.0   55862537.0      1926568.0   \n",
      "3    1620890.0          249160.0         2960.0   50466759.0      2349724.0   \n",
      "4    2166852.0          248407.0         3281.0   95500969.0      4909177.0   \n",
      "5     815581.0          218861.0         2639.0   49488107.0      3905367.0   \n",
      "\n",
      "   Population  \n",
      "1  39512223.0  \n",
      "2  28995881.0  \n",
      "3  21477737.0  \n",
      "4  19453561.0  \n",
      "5  12671821.0  \n"
     ]
    }
   ],
   "source": [
    "# Remove columns - Source and Projections Columns\n",
    "statesT.drop(['#', 'Source', 'Projections'], axis=1, inplace=True)\n",
    "\n",
    "# Remove rows - Country Totals \n",
    "statesT.drop([0, 64], axis=0, inplace=True)\n",
    "print(statesT.head())\n",
    "\n",
    "# Code did not use any HTML"
   ]
  },
  {
   "cell_type": "markdown",
   "id": "19f18471",
   "metadata": {},
   "source": [
    "##  Printing first few rows to describe Dataframe"
   ]
  },
  {
   "cell_type": "code",
   "execution_count": 17,
   "id": "fc4cab06",
   "metadata": {},
   "outputs": [
    {
     "name": "stdout",
     "output_type": "stream",
     "text": [
      "     USAState  TotalCases  NewCases  TotalDeaths  NewDeaths  TotalRecovered  \\\n",
      "1  California     7450319   29443.0      78870.0       64.0             NaN   \n",
      "2       Texas     5972238   53022.0      78491.0       68.0             NaN   \n",
      "3     Florida     5351391       NaN      63576.0        NaN       3666925.0   \n",
      "4    New York     4832399   18579.0      63824.0      205.0       2601723.0   \n",
      "5    Illinois     2773362       NaN      33446.0        NaN       1924335.0   \n",
      "\n",
      "   ActiveCases  Tot Cases/1M pop  Deaths/1M pop   TotalTests  Tests/ 1M pop  \\\n",
      "1          NaN          188557.0         1996.0  131160392.0      3319489.0   \n",
      "2          NaN          205968.0         2707.0   55862537.0      1926568.0   \n",
      "3    1620890.0          249160.0         2960.0   50466759.0      2349724.0   \n",
      "4    2166852.0          248407.0         3281.0   95500969.0      4909177.0   \n",
      "5     815581.0          218861.0         2639.0   49488107.0      3905367.0   \n",
      "\n",
      "   Population  \n",
      "1  39512223.0  \n",
      "2  28995881.0  \n",
      "3  21477737.0  \n",
      "4  19453561.0  \n",
      "5  12671821.0  \n"
     ]
    }
   ],
   "source": [
    "# This should print the dataframe first few rows\n",
    "print(statesT.head())"
   ]
  },
  {
   "cell_type": "markdown",
   "id": "78f2d919",
   "metadata": {},
   "source": [
    "## Dataframe Summary Statistics"
   ]
  },
  {
   "cell_type": "code",
   "execution_count": 18,
   "id": "3d09f8db",
   "metadata": {},
   "outputs": [
    {
     "name": "stdout",
     "output_type": "stream",
     "text": [
      "         TotalCases      NewCases   TotalDeaths   NewDeaths  TotalRecovered  \\\n",
      "count  6.300000e+01     20.000000     60.000000   12.000000    4.500000e+01   \n",
      "mean   1.141681e+06   9868.700000  14819.950000   47.833333    6.709382e+05   \n",
      "std    1.468834e+06  12937.846266  18310.658093   55.750798    7.796981e+05   \n",
      "min    3.000000e+00     38.000000      7.000000    1.000000    3.000000e+00   \n",
      "25%    2.138480e+05   1537.250000   2393.750000   12.750000    1.436660e+05   \n",
      "50%    6.813820e+05   4530.000000   9596.500000   37.000000    4.221640e+05   \n",
      "75%    1.455528e+06  10532.250000  19071.000000   64.500000    8.976670e+05   \n",
      "max    7.450319e+06  53022.000000  78870.000000  205.000000    3.666925e+06   \n",
      "\n",
      "        ActiveCases  Tot Cases/1M pop  Deaths/1M pop    TotalTests  \\\n",
      "count  4.500000e+01         52.000000      52.000000  6.000000e+01   \n",
      "mean   2.794077e+05     214342.134615    2493.557692  1.467447e+07   \n",
      "std    4.290013e+05      37827.031138     748.173709  2.240187e+07   \n",
      "min    0.000000e+00     124160.000000     809.000000  3.000000e+00   \n",
      "25%    1.846200e+04     200146.250000    1946.000000  3.070448e+06   \n",
      "50%    1.370030e+05     216632.000000    2726.000000  6.960140e+06   \n",
      "75%    3.974340e+05     239069.500000    3064.000000  1.711166e+07   \n",
      "max    2.166852e+06     308780.000000    3602.000000  1.311604e+08   \n",
      "\n",
      "       Tests/ 1M pop    Population  \n",
      "count   5.200000e+01  5.200000e+01  \n",
      "mean    2.610358e+06  6.377432e+06  \n",
      "std     1.214647e+06  7.300396e+06  \n",
      "min     7.416520e+05  5.787590e+05  \n",
      "25%     1.925836e+06  1.790876e+06  \n",
      "50%     2.320890e+06  4.342705e+06  \n",
      "75%     2.921964e+06  7.362761e+06  \n",
      "max     6.708611e+06  3.951222e+07  \n"
     ]
    }
   ],
   "source": [
    "# Infomation provided - count, min, max, average and standard deviation.\n",
    "print(statesT.describe())"
   ]
  },
  {
   "cell_type": "markdown",
   "id": "94e4298f",
   "metadata": {},
   "source": [
    "## Top 5 states for each metric:"
   ]
  },
  {
   "cell_type": "code",
   "execution_count": 19,
   "id": "ddf328c8",
   "metadata": {},
   "outputs": [
    {
     "name": "stdout",
     "output_type": "stream",
     "text": [
      "        USAState  NewCases\n",
      "2          Texas   53022.0\n",
      "1     California   29443.0\n",
      "12       Arizona   22922.0\n",
      "4       New York   18579.0\n",
      "6   Pennsylvania   12333.0\n"
     ]
    }
   ],
   "source": [
    "# New Cases\n",
    "print(statesT[['USAState','NewCases']].sort_values(by=['NewCases'], ascending=False).head(5))"
   ]
  },
  {
   "cell_type": "code",
   "execution_count": 20,
   "id": "00675bc6",
   "metadata": {},
   "outputs": [
    {
     "name": "stdout",
     "output_type": "stream",
     "text": [
      "       USAState  TotalDeaths\n",
      "1    California      78870.0\n",
      "2         Texas      78491.0\n",
      "4      New York      63824.0\n",
      "3       Florida      63576.0\n",
      "6  Pennsylvania      39538.0\n"
     ]
    }
   ],
   "source": [
    "# Total Deaths\n",
    "print(statesT[['USAState', 'TotalDeaths']].sort_values(by=['TotalDeaths'], ascending=False).head(5))"
   ]
  },
  {
   "cell_type": "code",
   "execution_count": 21,
   "id": "aaea33e0",
   "metadata": {},
   "outputs": [
    {
     "name": "stdout",
     "output_type": "stream",
     "text": [
      "        USAState  Tot Cases/1M pop\n",
      "40  Rhode Island          308780.0\n",
      "45  North Dakota          276933.0\n",
      "47        Alaska          257827.0\n",
      "28          Utah          257642.0\n",
      "13     Tennessee          254234.0\n"
     ]
    }
   ],
   "source": [
    "# Total Cases/ 1M Pop.\n",
    "tcases = statesT.iloc[:, [0, 7]]\n",
    "print(tcases.sort_values(by=[tcases.columns[1]], ascending=False).head(5))"
   ]
  },
  {
   "cell_type": "code",
   "execution_count": 23,
   "id": "9133d84e",
   "metadata": {},
   "outputs": [
    {
     "name": "stdout",
     "output_type": "stream",
     "text": [
      "       USAState  Deaths/1M pop\n",
      "32  Mississippi         3602.0\n",
      "12      Arizona         3520.0\n",
      "11   New Jersey         3463.0\n",
      "23      Alabama         3432.0\n",
      "24    Louisiana         3296.0\n"
     ]
    }
   ],
   "source": [
    "# Total Deaths/ 1M Pop.\n",
    "tdeaths = statesT.iloc[:, [0, 8]]\n",
    "print(tdeaths.sort_values(by=[tdeaths.columns[1]], ascending=False).head(5))"
   ]
  }
 ],
 "metadata": {
  "kernelspec": {
   "display_name": "Python 3 (ipykernel)",
   "language": "python",
   "name": "python3"
  },
  "language_info": {
   "codemirror_mode": {
    "name": "ipython",
    "version": 3
   },
   "file_extension": ".py",
   "mimetype": "text/x-python",
   "name": "python",
   "nbconvert_exporter": "python",
   "pygments_lexer": "ipython3",
   "version": "3.9.7"
  }
 },
 "nbformat": 4,
 "nbformat_minor": 5
}
